{
 "cells": [
  {
   "cell_type": "markdown",
   "id": "4588eb2b",
   "metadata": {},
   "source": [
    "# MNIST Classifier"
   ]
  },
  {
   "cell_type": "code",
   "execution_count": 2,
   "id": "3f4db221",
   "metadata": {},
   "outputs": [],
   "source": [
    "import numpy as np\n",
    "import pandas as pd\n",
    "import matplotlib.pyplot as plt\n",
    "from scipy.stats import multivariate_normal as mvn\n"
   ]
  },
  {
   "cell_type": "markdown",
   "id": "06bfe051",
   "metadata": {},
   "source": [
    "### Ingesting Data"
   ]
  },
  {
   "cell_type": "code",
   "execution_count": 3,
   "id": "398f4c81",
   "metadata": {},
   "outputs": [
    {
     "data": {
      "text/html": [
       "<div>\n",
       "<style scoped>\n",
       "    .dataframe tbody tr th:only-of-type {\n",
       "        vertical-align: middle;\n",
       "    }\n",
       "\n",
       "    .dataframe tbody tr th {\n",
       "        vertical-align: top;\n",
       "    }\n",
       "\n",
       "    .dataframe thead th {\n",
       "        text-align: right;\n",
       "    }\n",
       "</style>\n",
       "<table border=\"1\" class=\"dataframe\">\n",
       "  <thead>\n",
       "    <tr style=\"text-align: right;\">\n",
       "      <th></th>\n",
       "      <th>Unnamed: 0</th>\n",
       "      <th>index</th>\n",
       "      <th>labels</th>\n",
       "      <th>0</th>\n",
       "      <th>1</th>\n",
       "      <th>2</th>\n",
       "      <th>3</th>\n",
       "      <th>4</th>\n",
       "      <th>5</th>\n",
       "      <th>6</th>\n",
       "      <th>...</th>\n",
       "      <th>774</th>\n",
       "      <th>775</th>\n",
       "      <th>776</th>\n",
       "      <th>777</th>\n",
       "      <th>778</th>\n",
       "      <th>779</th>\n",
       "      <th>780</th>\n",
       "      <th>781</th>\n",
       "      <th>782</th>\n",
       "      <th>783</th>\n",
       "    </tr>\n",
       "  </thead>\n",
       "  <tbody>\n",
       "    <tr>\n",
       "      <th>0</th>\n",
       "      <td>0</td>\n",
       "      <td>0</td>\n",
       "      <td>7</td>\n",
       "      <td>0</td>\n",
       "      <td>0</td>\n",
       "      <td>0</td>\n",
       "      <td>0</td>\n",
       "      <td>0</td>\n",
       "      <td>0</td>\n",
       "      <td>0</td>\n",
       "      <td>...</td>\n",
       "      <td>0</td>\n",
       "      <td>0</td>\n",
       "      <td>0</td>\n",
       "      <td>0</td>\n",
       "      <td>0</td>\n",
       "      <td>0</td>\n",
       "      <td>0</td>\n",
       "      <td>0</td>\n",
       "      <td>0</td>\n",
       "      <td>0</td>\n",
       "    </tr>\n",
       "    <tr>\n",
       "      <th>1</th>\n",
       "      <td>1</td>\n",
       "      <td>1</td>\n",
       "      <td>2</td>\n",
       "      <td>0</td>\n",
       "      <td>0</td>\n",
       "      <td>0</td>\n",
       "      <td>0</td>\n",
       "      <td>0</td>\n",
       "      <td>0</td>\n",
       "      <td>0</td>\n",
       "      <td>...</td>\n",
       "      <td>0</td>\n",
       "      <td>0</td>\n",
       "      <td>0</td>\n",
       "      <td>0</td>\n",
       "      <td>0</td>\n",
       "      <td>0</td>\n",
       "      <td>0</td>\n",
       "      <td>0</td>\n",
       "      <td>0</td>\n",
       "      <td>0</td>\n",
       "    </tr>\n",
       "    <tr>\n",
       "      <th>2</th>\n",
       "      <td>2</td>\n",
       "      <td>2</td>\n",
       "      <td>1</td>\n",
       "      <td>0</td>\n",
       "      <td>0</td>\n",
       "      <td>0</td>\n",
       "      <td>0</td>\n",
       "      <td>0</td>\n",
       "      <td>0</td>\n",
       "      <td>0</td>\n",
       "      <td>...</td>\n",
       "      <td>0</td>\n",
       "      <td>0</td>\n",
       "      <td>0</td>\n",
       "      <td>0</td>\n",
       "      <td>0</td>\n",
       "      <td>0</td>\n",
       "      <td>0</td>\n",
       "      <td>0</td>\n",
       "      <td>0</td>\n",
       "      <td>0</td>\n",
       "    </tr>\n",
       "    <tr>\n",
       "      <th>3</th>\n",
       "      <td>3</td>\n",
       "      <td>3</td>\n",
       "      <td>0</td>\n",
       "      <td>0</td>\n",
       "      <td>0</td>\n",
       "      <td>0</td>\n",
       "      <td>0</td>\n",
       "      <td>0</td>\n",
       "      <td>0</td>\n",
       "      <td>0</td>\n",
       "      <td>...</td>\n",
       "      <td>0</td>\n",
       "      <td>0</td>\n",
       "      <td>0</td>\n",
       "      <td>0</td>\n",
       "      <td>0</td>\n",
       "      <td>0</td>\n",
       "      <td>0</td>\n",
       "      <td>0</td>\n",
       "      <td>0</td>\n",
       "      <td>0</td>\n",
       "    </tr>\n",
       "    <tr>\n",
       "      <th>4</th>\n",
       "      <td>4</td>\n",
       "      <td>4</td>\n",
       "      <td>4</td>\n",
       "      <td>0</td>\n",
       "      <td>0</td>\n",
       "      <td>0</td>\n",
       "      <td>0</td>\n",
       "      <td>0</td>\n",
       "      <td>0</td>\n",
       "      <td>0</td>\n",
       "      <td>...</td>\n",
       "      <td>0</td>\n",
       "      <td>0</td>\n",
       "      <td>0</td>\n",
       "      <td>0</td>\n",
       "      <td>0</td>\n",
       "      <td>0</td>\n",
       "      <td>0</td>\n",
       "      <td>0</td>\n",
       "      <td>0</td>\n",
       "      <td>0</td>\n",
       "    </tr>\n",
       "  </tbody>\n",
       "</table>\n",
       "<p>5 rows × 787 columns</p>\n",
       "</div>"
      ],
      "text/plain": [
       "   Unnamed: 0  index  labels  0  1  2  3  4  5  6  ...  774  775  776  777  \\\n",
       "0           0      0       7  0  0  0  0  0  0  0  ...    0    0    0    0   \n",
       "1           1      1       2  0  0  0  0  0  0  0  ...    0    0    0    0   \n",
       "2           2      2       1  0  0  0  0  0  0  0  ...    0    0    0    0   \n",
       "3           3      3       0  0  0  0  0  0  0  0  ...    0    0    0    0   \n",
       "4           4      4       4  0  0  0  0  0  0  0  ...    0    0    0    0   \n",
       "\n",
       "   778  779  780  781  782  783  \n",
       "0    0    0    0    0    0    0  \n",
       "1    0    0    0    0    0    0  \n",
       "2    0    0    0    0    0    0  \n",
       "3    0    0    0    0    0    0  \n",
       "4    0    0    0    0    0    0  \n",
       "\n",
       "[5 rows x 787 columns]"
      ]
     },
     "execution_count": 3,
     "metadata": {},
     "output_type": "execute_result"
    }
   ],
   "source": [
    "data = pd.read_csv('MNIST_train.csv')\n",
    "data1 = pd.read_csv('MNIST_test.csv')\n",
    "data.head()\n",
    "data1.head()"
   ]
  },
  {
   "cell_type": "code",
   "execution_count": 34,
   "id": "4a35b706",
   "metadata": {},
   "outputs": [],
   "source": [
    "X= data.to_numpy()\n",
    "X1= data1.to_numpy()"
   ]
  },
  {
   "cell_type": "code",
   "execution_count": 35,
   "id": "21e47da1",
   "metadata": {},
   "outputs": [],
   "source": [
    "y=X[:,2]\n",
    "X=X[:,3:]\n",
    "y1=X1[:,2]\n",
    "X1=X1[:,3:]"
   ]
  },
  {
   "cell_type": "markdown",
   "id": "9ee96f31",
   "metadata": {},
   "source": [
    "### Checking if labels are the same as image"
   ]
  },
  {
   "cell_type": "code",
   "execution_count": 36,
   "id": "6155a34f",
   "metadata": {},
   "outputs": [
    {
     "data": {
      "text/plain": [
       "(784,)"
      ]
     },
     "execution_count": 36,
     "metadata": {},
     "output_type": "execute_result"
    }
   ],
   "source": [
    "X[0,:].shape"
   ]
  },
  {
   "cell_type": "code",
   "execution_count": 37,
   "id": "c635e7b1",
   "metadata": {},
   "outputs": [
    {
     "data": {
      "text/plain": [
       "5"
      ]
     },
     "execution_count": 37,
     "metadata": {},
     "output_type": "execute_result"
    }
   ],
   "source": [
    "y[0]"
   ]
  },
  {
   "cell_type": "code",
   "execution_count": 38,
   "id": "60cf1539",
   "metadata": {},
   "outputs": [
    {
     "data": {
      "text/plain": [
       "28.0"
      ]
     },
     "execution_count": 38,
     "metadata": {},
     "output_type": "execute_result"
    }
   ],
   "source": [
    "784**.5\n"
   ]
  },
  {
   "cell_type": "code",
   "execution_count": 40,
   "id": "618fb9df",
   "metadata": {},
   "outputs": [
    {
     "data": {
      "text/plain": [
       "<matplotlib.image.AxesImage at 0x1b317465cd0>"
      ]
     },
     "execution_count": 40,
     "metadata": {},
     "output_type": "execute_result"
    },
    {
     "data": {
      "image/png": "[encoded data removed]",
      "text/plain": [
       "<Figure size 640x480 with 1 Axes>"
      ]
     },
     "metadata": {},
     "output_type": "display_data"
    }
   ],
   "source": [
    "plt.imshow(X[0,:].reshape(28,28))"
   ]
  },
  {
   "cell_type": "markdown",
   "id": "93e5f57c",
   "metadata": {},
   "source": [
    "### Accuracy Metrics"
   ]
  },
  {
   "cell_type": "code",
   "execution_count": 42,
   "id": "782aa969",
   "metadata": {},
   "outputs": [],
   "source": [
    "def accuracy(y, y_hat):\n",
    "    return np.mean(y==y_hat)"
   ]
  },
  {
   "cell_type": "code",
   "execution_count": 56,
   "id": "bb791a24",
   "metadata": {},
   "outputs": [],
   "source": [
    "def precision_score(y_true, y_pred):\n",
    "    \n",
    "   \n",
    "    y_true = np.array(y_true)\n",
    "    y_pred = np.array(y_pred)\n",
    "    \n",
    "    \n",
    "    unique_labels = np.unique(y_true)\n",
    "    precisions = []\n",
    "    for label in unique_labels:\n",
    "        true_positives = np.sum((y_true == label) & (y_pred == label))\n",
    "        false_positives = np.sum((y_true != label) & (y_pred == label))\n",
    "        precision = true_positives / (true_positives + false_positives)\n",
    "        precisions.append(precision)\n",
    "    \n",
    "    \n",
    "    precision = np.mean(precisions)\n",
    "    \n",
    "    return precision\n"
   ]
  },
  {
   "cell_type": "markdown",
   "id": "11e14809",
   "metadata": {},
   "source": [
    "### Gausian Naive Bayes Classifier"
   ]
  },
  {
   "cell_type": "code",
   "execution_count": 60,
   "id": "1c7ab7c8",
   "metadata": {},
   "outputs": [],
   "source": [
    "class GaussNB():\n",
    "    \n",
    "    def fit(self, X, y, epsilon = 1080):\n",
    "        \n",
    "        self.likelihood = dict()\n",
    "        self.priors = dict()\n",
    "        \n",
    "        self.K = set(y.astype(int))\n",
    "        \n",
    "        for k in self.K:\n",
    "            \n",
    "            X_k = X[y==k,:]\n",
    "            \n",
    "            self.likelihood[k] = {'mean': X_k.mean(axis=0), 'cov': X_k.var(axis=0)+epsilon}\n",
    "            self.priors[k] = len(X_k)/len(X)\n",
    "            \n",
    "    def predict(self, X):\n",
    "        \n",
    "        N,D =X.shape\n",
    "        \n",
    "        P_hat = np.zeros((N, len(self.K)))\n",
    "        \n",
    "        for k, l in self.likelihood.items():\n",
    "            \n",
    "            #Bayes theorem computation\n",
    "            \n",
    "            P_hat[:, k] = mvn.logpdf(X, l['mean'],.5*l['cov'])+np.log(self.priors[k])\n",
    "            \n",
    "        return P_hat.argmax(axis=1)"
   ]
  },
  {
   "cell_type": "code",
   "execution_count": 61,
   "id": "38f170ec",
   "metadata": {},
   "outputs": [],
   "source": [
    "gnb=GaussNB()"
   ]
  },
  {
   "cell_type": "code",
   "execution_count": 62,
   "id": "87a49bb6",
   "metadata": {},
   "outputs": [],
   "source": [
    "gnb.fit(X,y)"
   ]
  },
  {
   "cell_type": "code",
   "execution_count": 63,
   "id": "acd19737",
   "metadata": {},
   "outputs": [],
   "source": [
    "y_hat = gnb.predict(X1)"
   ]
  },
  {
   "cell_type": "code",
   "execution_count": 64,
   "id": "aae1f948",
   "metadata": {},
   "outputs": [
    {
     "data": {
      "text/plain": [
       "0.8454"
      ]
     },
     "execution_count": 64,
     "metadata": {},
     "output_type": "execute_result"
    }
   ],
   "source": [
    "accuracy(y1, y_hat)"
   ]
  },
  {
   "cell_type": "code",
   "execution_count": 65,
   "id": "5e1a25e7",
   "metadata": {},
   "outputs": [
    {
     "data": {
      "text/plain": [
       "0.8504237903400608"
      ]
     },
     "execution_count": 65,
     "metadata": {},
     "output_type": "execute_result"
    }
   ],
   "source": [
    "precision_score(y1, y_hat)"
   ]
  },
  {
   "cell_type": "markdown",
   "id": "249d4d72",
   "metadata": {},
   "source": [
    "### Non-Naive Gaussian Bayes Classifier"
   ]
  },
  {
   "cell_type": "code",
   "execution_count": 47,
   "id": "94791288",
   "metadata": {},
   "outputs": [],
   "source": [
    "class GaussBayes:\n",
    "    def fit(self, X, y, epsilon=1080):\n",
    "        self.likelihood = dict()\n",
    "        self.priors = dict()\n",
    "        \n",
    "        \n",
    "        \n",
    "        self.K =set(y.astype(int))\n",
    "        \n",
    "        for k in self.K:\n",
    "            \n",
    "            X_k = X[y==k,:]\n",
    "            \n",
    "            N_k, D = X_k.shape\n",
    "            \n",
    "            mu_k = X_k.mean(axis=0)\n",
    "            \n",
    "            self.likelihood[k] ={'mean': X_k.mean(axis=0), 'cov':(1/(N_k-1))*np.matmul((X_k-mu_k).T,(X_k-mu_k))+epsilon*np.identity(D)}\n",
    "            \n",
    "            self.priors[k] = len(X_k)/len(X)\n",
    "            \n",
    "    def predict(self, X, eff=1/2**.5):\n",
    "        \n",
    "        N, D = X.shape\n",
    "        \n",
    "        P_hat = np.zeros((N, len(self.K)))\n",
    "        \n",
    "        for k, l in self.likelihood.items():\n",
    "            \n",
    "            #Bayes theorem computation\n",
    "            \n",
    "            P_hat[:, k] = mvn.logpdf(X, l['mean'],eff*l['cov'])+np.log(self.priors[k])\n",
    "            \n",
    "        return P_hat.argmax(axis=1) "
   ]
  },
  {
   "cell_type": "code",
   "execution_count": 48,
   "id": "90614a2d",
   "metadata": {},
   "outputs": [],
   "source": [
    "gb = GaussBayes()"
   ]
  },
  {
   "cell_type": "code",
   "execution_count": 49,
   "id": "f0fa573d",
   "metadata": {},
   "outputs": [],
   "source": [
    "gb.fit(X,y)"
   ]
  },
  {
   "cell_type": "code",
   "execution_count": 50,
   "id": "80b8618a",
   "metadata": {},
   "outputs": [],
   "source": [
    "y_hat2 = gb.predict(X1)"
   ]
  },
  {
   "cell_type": "code",
   "execution_count": 51,
   "id": "e8f0059c",
   "metadata": {},
   "outputs": [
    {
     "data": {
      "text/plain": [
       "0.9541"
      ]
     },
     "execution_count": 51,
     "metadata": {},
     "output_type": "execute_result"
    }
   ],
   "source": [
    "accuracy(y1, y_hat2)"
   ]
  },
  {
   "cell_type": "code",
   "execution_count": 58,
   "id": "bac533a1",
   "metadata": {},
   "outputs": [
    {
     "data": {
      "text/plain": [
       "0.9548679169140997"
      ]
     },
     "execution_count": 58,
     "metadata": {},
     "output_type": "execute_result"
    }
   ],
   "source": [
    "precision_score(y1, y_hat2)"
   ]
  },
  {
   "cell_type": "markdown",
   "id": "2d258035",
   "metadata": {},
   "source": [
    "### K-Nearest Neighbour Classifier"
   ]
  },
  {
   "cell_type": "code",
   "execution_count": 52,
   "id": "de8edcba",
   "metadata": {},
   "outputs": [],
   "source": [
    "class KNNClassifier():\n",
    "    \n",
    "    def fit(self, X, y):\n",
    "        self.X = X\n",
    "        self.y = y\n",
    "        \n",
    "    def predict(self, X, K, epsilon =1e-1):\n",
    "        N = len(X)\n",
    "        y_hat = np.zeros(N)\n",
    "        \n",
    "        for i in range(N):\n",
    "            dist2 = np.sum((self.X-X[i])**2, axis=1)\n",
    "            idxt = np.argsort(dist2)[:K]\n",
    "            gamma_k=1/(np.sqrt(dist2[idxt])+epsilon)\n",
    "            y_hat[i] = np.bincount(self.y[idxt], weights=gamma_k).argmax()\n",
    "            \n",
    "        return y_hat"
   ]
  },
  {
   "cell_type": "code",
   "execution_count": 53,
   "id": "a9a32d06",
   "metadata": {},
   "outputs": [],
   "source": [
    "knn = KNNClassifier()\n",
    "knn.fit(X,y)"
   ]
  },
  {
   "cell_type": "code",
   "execution_count": 54,
   "id": "61463f21",
   "metadata": {},
   "outputs": [],
   "source": [
    "y_hat3 = knn.predict(X1, 2)"
   ]
  },
  {
   "cell_type": "code",
   "execution_count": 55,
   "id": "ec094275",
   "metadata": {},
   "outputs": [
    {
     "data": {
      "text/plain": [
       "0.9691"
      ]
     },
     "execution_count": 55,
     "metadata": {},
     "output_type": "execute_result"
    }
   ],
   "source": [
    "accuracy(y1, y_hat3)"
   ]
  },
  {
   "cell_type": "code",
   "execution_count": 59,
   "id": "43b3b83b",
   "metadata": {},
   "outputs": [
    {
     "data": {
      "text/plain": [
       "0.9691476332561566"
      ]
     },
     "execution_count": 59,
     "metadata": {},
     "output_type": "execute_result"
    }
   ],
   "source": [
    "precision_score(y1, y_hat3)"
   ]
  }
 ],
 "metadata": {
  "kernelspec": {
   "display_name": "Python 3 (ipykernel)",
   "language": "python",
   "name": "python3"
  },
  "language_info": {
   "codemirror_mode": {
    "name": "ipython",
    "version": 3
   },
   "file_extension": ".py",
   "mimetype": "text/x-python",
   "name": "python",
   "nbconvert_exporter": "python",
   "pygments_lexer": "ipython3",
   "version": "3.9.13"
  }
 },
 "nbformat": 4,
 "nbformat_minor": 5
}
